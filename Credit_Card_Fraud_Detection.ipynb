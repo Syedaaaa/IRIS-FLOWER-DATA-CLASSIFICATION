{
  "cells": [
    {
      "cell_type": "markdown",
      "id": "bed2c477",
      "metadata": {
        "id": "bed2c477"
      },
      "source": [
        "# Credit Card Fraud Exercise\n",
        "\n",
        "For this exercise we will use a fake credit card dataset that is available from a public Kaggle dataset:\n",
        "\n",
        "https://www.kaggle.com/datasets/mlg-ulb/creditcardfraud/versions/3?resource=download\n",
        "\n",
        "Download and Load the credit card dataset from the left menu folder icon\n",
        "\n",
        "Exercise 1.\n",
        "- Basic Statistics\n",
        "\n",
        "Exercise 2\n",
        "- Data cleaning and processing\n",
        "\n",
        "Exercise 3\n",
        "- Build a predictive model for fraud.\n",
        "- What explanatory variable was the most powerful predictor for fraud?\n"
      ]
    },
    {
      "cell_type": "code",
      "source": [
        "# Install needed libraries\n",
        "!pip install sklearn xgboost"
      ],
      "metadata": {
        "colab": {
          "base_uri": "https://localhost:8080/"
        },
        "id": "2G0mnr2Wm4VH",
        "outputId": "df024538-540f-4a88-b912-30d9777bcc37"
      },
      "id": "2G0mnr2Wm4VH",
      "execution_count": null,
      "outputs": [
        {
          "output_type": "stream",
          "name": "stdout",
          "text": [
            "Looking in indexes: https://pypi.org/simple, https://us-python.pkg.dev/colab-wheels/public/simple/\n",
            "Requirement already satisfied: sklearn in /usr/local/lib/python3.7/dist-packages (0.0)\n",
            "Requirement already satisfied: xgboost in /usr/local/lib/python3.7/dist-packages (0.90)\n",
            "Requirement already satisfied: scikit-learn in /usr/local/lib/python3.7/dist-packages (from sklearn) (1.0.2)\n",
            "Requirement already satisfied: numpy in /usr/local/lib/python3.7/dist-packages (from xgboost) (1.21.6)\n",
            "Requirement already satisfied: scipy in /usr/local/lib/python3.7/dist-packages (from xgboost) (1.7.3)\n",
            "Requirement already satisfied: threadpoolctl>=2.0.0 in /usr/local/lib/python3.7/dist-packages (from scikit-learn->sklearn) (3.1.0)\n",
            "Requirement already satisfied: joblib>=0.11 in /usr/local/lib/python3.7/dist-packages (from scikit-learn->sklearn) (1.1.0)\n"
          ]
        }
      ]
    },
    {
      "cell_type": "code",
      "execution_count": null,
      "id": "fa677d09",
      "metadata": {
        "colab": {
          "base_uri": "https://localhost:8080/",
          "height": 34
        },
        "id": "fa677d09",
        "outputId": "93a4d9e4-b331-4425-8355-facb9773ed22"
      },
      "outputs": [
        {
          "output_type": "display_data",
          "data": {
            "text/plain": [
              "<Figure size 432x216 with 0 Axes>"
            ]
          },
          "metadata": {}
        }
      ],
      "source": [
        "## Prediction models code was obtained from the following link\n",
        "# https://towardsdatascience.com/credit-card-fraud-detection-using-machine-learning-python-5b098d4a8edc, from here on called towardsdatascience)\n",
        "\n",
        "#Packages related to general operating system & warnings\n",
        "import os\n",
        "import warnings\n",
        "warnings.filterwarnings('ignore')\n",
        "#Packages related to data importing, manipulation, exploratory data #analysis, data understanding\n",
        "import numpy as np\n",
        "import pandas as pd\n",
        "from termcolor import colored as cl # text customization\n",
        "#Packages related to data visualizaiton\n",
        "import seaborn as sns\n",
        "import matplotlib.pyplot as plt\n",
        "%matplotlib inline\n",
        "#Setting plot sizes and type of plot\n",
        "plt.rc(\"font\", size=14)\n",
        "plt.rcParams['axes.grid'] = True\n",
        "plt.figure(figsize=(6,3))\n",
        "plt.gray()\n",
        "from mpl_toolkits.axes_grid1 import host_subplot\n",
        "\n",
        "from sklearn.model_selection import train_test_split\n",
        "from sklearn import metrics\n",
        "from sklearn.impute import MissingIndicator, SimpleImputer\n",
        "from sklearn.preprocessing import  PolynomialFeatures, KBinsDiscretizer, FunctionTransformer\n",
        "from sklearn.preprocessing import StandardScaler, MinMaxScaler, MaxAbsScaler\n",
        "from sklearn.preprocessing import LabelEncoder, OneHotEncoder, LabelBinarizer, OrdinalEncoder\n",
        "#import statsmodels.formula.api as smf\n",
        "#import statsmodels.tsa as tsa\n",
        "from sklearn.linear_model import LogisticRegression, LinearRegression, ElasticNet, Lasso, Ridge\n",
        "from sklearn.neighbors import KNeighborsClassifier, KNeighborsRegressor\n",
        "from sklearn.tree import DecisionTreeClassifier, DecisionTreeRegressor #, export_graphviz, export\n",
        "from sklearn.ensemble import BaggingClassifier, BaggingRegressor,RandomForestClassifier,RandomForestRegressor\n",
        "from sklearn.ensemble import GradientBoostingClassifier,GradientBoostingRegressor, AdaBoostClassifier, AdaBoostRegressor\n",
        "from sklearn.svm import LinearSVC, LinearSVR, SVC, SVR\n",
        "from xgboost import XGBClassifier\n",
        "from sklearn.metrics import f1_score\n",
        "from sklearn.metrics import accuracy_score\n",
        "from sklearn.metrics import confusion_matrix"
      ]
    },
    {
      "cell_type": "code",
      "execution_count": null,
      "id": "881ca65a",
      "metadata": {
        "id": "881ca65a",
        "colab": {
          "base_uri": "https://localhost:8080/",
          "height": 317
        },
        "outputId": "cde7d97b-fc71-4be2-8ea7-f0e6ebc5aaaf"
      },
      "outputs": [
        {
          "output_type": "stream",
          "name": "stdout",
          "text": [
            "Data appears to be formatted as a csv file not excel, so calling appropiate read_csv function\n"
          ]
        },
        {
          "output_type": "execute_result",
          "data": {
            "text/plain": [
              "   Time        V1        V2        V3        V4        V5        V6        V7  \\\n",
              "0   0.0 -1.359807 -0.072781  2.536347  1.378155 -0.338321  0.462388  0.239599   \n",
              "1   0.0  1.191857  0.266151  0.166480  0.448154  0.060018 -0.082361 -0.078803   \n",
              "2   1.0 -1.358354 -1.340163  1.773209  0.379780 -0.503198  1.800499  0.791461   \n",
              "3   1.0 -0.966272 -0.185226  1.792993 -0.863291 -0.010309  1.247203  0.237609   \n",
              "4   2.0 -1.158233  0.877737  1.548718  0.403034 -0.407193  0.095921  0.592941   \n",
              "\n",
              "         V8        V9  ...       V21       V22       V23       V24       V25  \\\n",
              "0  0.098698  0.363787  ... -0.018307  0.277838 -0.110474  0.066928  0.128539   \n",
              "1  0.085102 -0.255425  ... -0.225775 -0.638672  0.101288 -0.339846  0.167170   \n",
              "2  0.247676 -1.514654  ...  0.247998  0.771679  0.909412 -0.689281 -0.327642   \n",
              "3  0.377436 -1.387024  ... -0.108300  0.005274 -0.190321 -1.175575  0.647376   \n",
              "4 -0.270533  0.817739  ... -0.009431  0.798278 -0.137458  0.141267 -0.206010   \n",
              "\n",
              "        V26       V27       V28  Amount  Class  \n",
              "0 -0.189115  0.133558 -0.021053  149.62      0  \n",
              "1  0.125895 -0.008983  0.014724    2.69      0  \n",
              "2 -0.139097 -0.055353 -0.059752  378.66      0  \n",
              "3 -0.221929  0.062723  0.061458  123.50      0  \n",
              "4  0.502292  0.219422  0.215153   69.99      0  \n",
              "\n",
              "[5 rows x 31 columns]"
            ],
            "text/html": [
              "\n",
              "  <div id=\"df-4e6a31e1-8f60-4cda-92b6-6b3e8ccaa372\">\n",
              "    <div class=\"colab-df-container\">\n",
              "      <div>\n",
              "<style scoped>\n",
              "    .dataframe tbody tr th:only-of-type {\n",
              "        vertical-align: middle;\n",
              "    }\n",
              "\n",
              "    .dataframe tbody tr th {\n",
              "        vertical-align: top;\n",
              "    }\n",
              "\n",
              "    .dataframe thead th {\n",
              "        text-align: right;\n",
              "    }\n",
              "</style>\n",
              "<table border=\"1\" class=\"dataframe\">\n",
              "  <thead>\n",
              "    <tr style=\"text-align: right;\">\n",
              "      <th></th>\n",
              "      <th>Time</th>\n",
              "      <th>V1</th>\n",
              "      <th>V2</th>\n",
              "      <th>V3</th>\n",
              "      <th>V4</th>\n",
              "      <th>V5</th>\n",
              "      <th>V6</th>\n",
              "      <th>V7</th>\n",
              "      <th>V8</th>\n",
              "      <th>V9</th>\n",
              "      <th>...</th>\n",
              "      <th>V21</th>\n",
              "      <th>V22</th>\n",
              "      <th>V23</th>\n",
              "      <th>V24</th>\n",
              "      <th>V25</th>\n",
              "      <th>V26</th>\n",
              "      <th>V27</th>\n",
              "      <th>V28</th>\n",
              "      <th>Amount</th>\n",
              "      <th>Class</th>\n",
              "    </tr>\n",
              "  </thead>\n",
              "  <tbody>\n",
              "    <tr>\n",
              "      <th>0</th>\n",
              "      <td>0.0</td>\n",
              "      <td>-1.359807</td>\n",
              "      <td>-0.072781</td>\n",
              "      <td>2.536347</td>\n",
              "      <td>1.378155</td>\n",
              "      <td>-0.338321</td>\n",
              "      <td>0.462388</td>\n",
              "      <td>0.239599</td>\n",
              "      <td>0.098698</td>\n",
              "      <td>0.363787</td>\n",
              "      <td>...</td>\n",
              "      <td>-0.018307</td>\n",
              "      <td>0.277838</td>\n",
              "      <td>-0.110474</td>\n",
              "      <td>0.066928</td>\n",
              "      <td>0.128539</td>\n",
              "      <td>-0.189115</td>\n",
              "      <td>0.133558</td>\n",
              "      <td>-0.021053</td>\n",
              "      <td>149.62</td>\n",
              "      <td>0</td>\n",
              "    </tr>\n",
              "    <tr>\n",
              "      <th>1</th>\n",
              "      <td>0.0</td>\n",
              "      <td>1.191857</td>\n",
              "      <td>0.266151</td>\n",
              "      <td>0.166480</td>\n",
              "      <td>0.448154</td>\n",
              "      <td>0.060018</td>\n",
              "      <td>-0.082361</td>\n",
              "      <td>-0.078803</td>\n",
              "      <td>0.085102</td>\n",
              "      <td>-0.255425</td>\n",
              "      <td>...</td>\n",
              "      <td>-0.225775</td>\n",
              "      <td>-0.638672</td>\n",
              "      <td>0.101288</td>\n",
              "      <td>-0.339846</td>\n",
              "      <td>0.167170</td>\n",
              "      <td>0.125895</td>\n",
              "      <td>-0.008983</td>\n",
              "      <td>0.014724</td>\n",
              "      <td>2.69</td>\n",
              "      <td>0</td>\n",
              "    </tr>\n",
              "    <tr>\n",
              "      <th>2</th>\n",
              "      <td>1.0</td>\n",
              "      <td>-1.358354</td>\n",
              "      <td>-1.340163</td>\n",
              "      <td>1.773209</td>\n",
              "      <td>0.379780</td>\n",
              "      <td>-0.503198</td>\n",
              "      <td>1.800499</td>\n",
              "      <td>0.791461</td>\n",
              "      <td>0.247676</td>\n",
              "      <td>-1.514654</td>\n",
              "      <td>...</td>\n",
              "      <td>0.247998</td>\n",
              "      <td>0.771679</td>\n",
              "      <td>0.909412</td>\n",
              "      <td>-0.689281</td>\n",
              "      <td>-0.327642</td>\n",
              "      <td>-0.139097</td>\n",
              "      <td>-0.055353</td>\n",
              "      <td>-0.059752</td>\n",
              "      <td>378.66</td>\n",
              "      <td>0</td>\n",
              "    </tr>\n",
              "    <tr>\n",
              "      <th>3</th>\n",
              "      <td>1.0</td>\n",
              "      <td>-0.966272</td>\n",
              "      <td>-0.185226</td>\n",
              "      <td>1.792993</td>\n",
              "      <td>-0.863291</td>\n",
              "      <td>-0.010309</td>\n",
              "      <td>1.247203</td>\n",
              "      <td>0.237609</td>\n",
              "      <td>0.377436</td>\n",
              "      <td>-1.387024</td>\n",
              "      <td>...</td>\n",
              "      <td>-0.108300</td>\n",
              "      <td>0.005274</td>\n",
              "      <td>-0.190321</td>\n",
              "      <td>-1.175575</td>\n",
              "      <td>0.647376</td>\n",
              "      <td>-0.221929</td>\n",
              "      <td>0.062723</td>\n",
              "      <td>0.061458</td>\n",
              "      <td>123.50</td>\n",
              "      <td>0</td>\n",
              "    </tr>\n",
              "    <tr>\n",
              "      <th>4</th>\n",
              "      <td>2.0</td>\n",
              "      <td>-1.158233</td>\n",
              "      <td>0.877737</td>\n",
              "      <td>1.548718</td>\n",
              "      <td>0.403034</td>\n",
              "      <td>-0.407193</td>\n",
              "      <td>0.095921</td>\n",
              "      <td>0.592941</td>\n",
              "      <td>-0.270533</td>\n",
              "      <td>0.817739</td>\n",
              "      <td>...</td>\n",
              "      <td>-0.009431</td>\n",
              "      <td>0.798278</td>\n",
              "      <td>-0.137458</td>\n",
              "      <td>0.141267</td>\n",
              "      <td>-0.206010</td>\n",
              "      <td>0.502292</td>\n",
              "      <td>0.219422</td>\n",
              "      <td>0.215153</td>\n",
              "      <td>69.99</td>\n",
              "      <td>0</td>\n",
              "    </tr>\n",
              "  </tbody>\n",
              "</table>\n",
              "<p>5 rows × 31 columns</p>\n",
              "</div>\n",
              "      <button class=\"colab-df-convert\" onclick=\"convertToInteractive('df-4e6a31e1-8f60-4cda-92b6-6b3e8ccaa372')\"\n",
              "              title=\"Convert this dataframe to an interactive table.\"\n",
              "              style=\"display:none;\">\n",
              "        \n",
              "  <svg xmlns=\"http://www.w3.org/2000/svg\" height=\"24px\"viewBox=\"0 0 24 24\"\n",
              "       width=\"24px\">\n",
              "    <path d=\"M0 0h24v24H0V0z\" fill=\"none\"/>\n",
              "    <path d=\"M18.56 5.44l.94 2.06.94-2.06 2.06-.94-2.06-.94-.94-2.06-.94 2.06-2.06.94zm-11 1L8.5 8.5l.94-2.06 2.06-.94-2.06-.94L8.5 2.5l-.94 2.06-2.06.94zm10 10l.94 2.06.94-2.06 2.06-.94-2.06-.94-.94-2.06-.94 2.06-2.06.94z\"/><path d=\"M17.41 7.96l-1.37-1.37c-.4-.4-.92-.59-1.43-.59-.52 0-1.04.2-1.43.59L10.3 9.45l-7.72 7.72c-.78.78-.78 2.05 0 2.83L4 21.41c.39.39.9.59 1.41.59.51 0 1.02-.2 1.41-.59l7.78-7.78 2.81-2.81c.8-.78.8-2.07 0-2.86zM5.41 20L4 18.59l7.72-7.72 1.47 1.35L5.41 20z\"/>\n",
              "  </svg>\n",
              "      </button>\n",
              "      \n",
              "  <style>\n",
              "    .colab-df-container {\n",
              "      display:flex;\n",
              "      flex-wrap:wrap;\n",
              "      gap: 12px;\n",
              "    }\n",
              "\n",
              "    .colab-df-convert {\n",
              "      background-color: #E8F0FE;\n",
              "      border: none;\n",
              "      border-radius: 50%;\n",
              "      cursor: pointer;\n",
              "      display: none;\n",
              "      fill: #1967D2;\n",
              "      height: 32px;\n",
              "      padding: 0 0 0 0;\n",
              "      width: 32px;\n",
              "    }\n",
              "\n",
              "    .colab-df-convert:hover {\n",
              "      background-color: #E2EBFA;\n",
              "      box-shadow: 0px 1px 2px rgba(60, 64, 67, 0.3), 0px 1px 3px 1px rgba(60, 64, 67, 0.15);\n",
              "      fill: #174EA6;\n",
              "    }\n",
              "\n",
              "    [theme=dark] .colab-df-convert {\n",
              "      background-color: #3B4455;\n",
              "      fill: #D2E3FC;\n",
              "    }\n",
              "\n",
              "    [theme=dark] .colab-df-convert:hover {\n",
              "      background-color: #434B5C;\n",
              "      box-shadow: 0px 1px 3px 1px rgba(0, 0, 0, 0.15);\n",
              "      filter: drop-shadow(0px 1px 2px rgba(0, 0, 0, 0.3));\n",
              "      fill: #FFFFFF;\n",
              "    }\n",
              "  </style>\n",
              "\n",
              "      <script>\n",
              "        const buttonEl =\n",
              "          document.querySelector('#df-4e6a31e1-8f60-4cda-92b6-6b3e8ccaa372 button.colab-df-convert');\n",
              "        buttonEl.style.display =\n",
              "          google.colab.kernel.accessAllowed ? 'block' : 'none';\n",
              "\n",
              "        async function convertToInteractive(key) {\n",
              "          const element = document.querySelector('#df-4e6a31e1-8f60-4cda-92b6-6b3e8ccaa372');\n",
              "          const dataTable =\n",
              "            await google.colab.kernel.invokeFunction('convertToInteractive',\n",
              "                                                     [key], {});\n",
              "          if (!dataTable) return;\n",
              "\n",
              "          const docLinkHtml = 'Like what you see? Visit the ' +\n",
              "            '<a target=\"_blank\" href=https://colab.research.google.com/notebooks/data_table.ipynb>data table notebook</a>'\n",
              "            + ' to learn more about interactive tables.';\n",
              "          element.innerHTML = '';\n",
              "          dataTable['output_type'] = 'display_data';\n",
              "          await google.colab.output.renderOutput(dataTable, element);\n",
              "          const docLink = document.createElement('div');\n",
              "          docLink.innerHTML = docLinkHtml;\n",
              "          element.appendChild(docLink);\n",
              "        }\n",
              "      </script>\n",
              "    </div>\n",
              "  </div>\n",
              "  "
            ]
          },
          "metadata": {},
          "execution_count": 47
        }
      ],
      "source": [
        "## Load Data\n",
        "filename = 'creditcard.csv'\n",
        "try:\n",
        "  ccdata_csv = pd.read_csv(filename)\n",
        "  print('Data appears to be formatted as a csv file not excel, so calling appropiate read_csv function')\n",
        "except:\n",
        "  raise ValueError(f'Remember to load file {filename}   or \\\n",
        "  You have not added a valid file')\n",
        "ccdata_csv.head()"
      ]
    },
    {
      "cell_type": "code",
      "execution_count": null,
      "id": "6b8ddcef",
      "metadata": {
        "colab": {
          "base_uri": "https://localhost:8080/",
          "height": 324
        },
        "id": "6b8ddcef",
        "outputId": "e7d504ed-6f4f-4f81-fe59-0d55c3b55c80"
      },
      "outputs": [
        {
          "output_type": "stream",
          "name": "stdout",
          "text": [
            "Histogram of Balance \n"
          ]
        },
        {
          "output_type": "display_data",
          "data": {
            "text/plain": [
              "<Figure size 432x288 with 1 Axes>"
            ],
            "image/png": "[encoded data removed]"
          },
          "metadata": {
            "needs_background": "light"
          }
        }
      ],
      "source": [
        "# Histogram of the Amount for all the customers.\n",
        "print('Histogram of Balance ')\n",
        "plt.hist(ccdata_csv['Amount']);\n",
        "plt.title('Balance Histogram')\n",
        "plt.xlabel(\"Balance\")\n",
        "plt.ylabel(\"Number of Accounts\");"
      ]
    },
    {
      "cell_type": "code",
      "execution_count": null,
      "id": "d7ccbf55",
      "metadata": {
        "colab": {
          "base_uri": "https://localhost:8080/",
          "height": 342
        },
        "id": "d7ccbf55",
        "outputId": "49f6d7d2-8f6d-4783-89c5-4bda942f8d23"
      },
      "outputs": [
        {
          "output_type": "stream",
          "name": "stdout",
          "text": [
            "To have a better look at Histogram classes we can filter the data.\n",
            "Filtered data up to balance = 1000 is 98.92% of original data\n"
          ]
        },
        {
          "output_type": "display_data",
          "data": {
            "text/plain": [
              "<Figure size 432x288 with 1 Axes>"
            ],
            "image/png": "[encoded data removed]"
          },
          "metadata": {
            "needs_background": "light"
          }
        }
      ],
      "source": [
        "# Histogram with filtered balance\n",
        "limit = 1_000\n",
        "filtered = ccdata_csv['Amount'][(ccdata_csv['Amount']) < limit]\n",
        "balance_count = ccdata_csv['Amount'].count()\n",
        "print('To have a better look at Histogram classes we can filter the data.')\n",
        "print(f'Filtered data up to balance = {limit} is {(100*filtered.count()/balance_count):.2f}% of original data')\n",
        "plt.hist(filtered);\n",
        "plt.title('Balance Histogram')\n",
        "plt.xlabel(\"Filtered Balance\")\n",
        "plt.ylabel(\"Number of Accounts\");"
      ]
    },
    {
      "cell_type": "code",
      "execution_count": null,
      "id": "08e28057",
      "metadata": {
        "colab": {
          "base_uri": "https://localhost:8080/"
        },
        "id": "08e28057",
        "outputId": "fd75056b-751f-4eb7-9aed-11f6595c87ed"
      },
      "outputs": [
        {
          "output_type": "stream",
          "name": "stdout",
          "text": [
            "Assigning data_csv dataframe to data \n",
            "\n",
            "\u001b[1mTotal number of Trnsactions are 284807\u001b[0m\n",
            "\u001b[1mNumber of Normal Transactions are 284315\u001b[0m\n",
            "\u001b[1mNumber of fraudulent Transactions are 492\u001b[0m\n",
            "\u001b[1mPercentage of fraud Transactions is 0.17%\u001b[0m\n"
          ]
        }
      ],
      "source": [
        "## Basic statistics on Dataset\n",
        "print('Assigning data_csv dataframe to data \\n')\n",
        "data=ccdata_csv\n",
        "data.rename(columns={'fraud':'Class'}, inplace=True)\n",
        "\n",
        "# Code snippet from (towardsdatascience)\n",
        "Total_transactions = len(data)\n",
        "normal = len(data[data.Class == 0])\n",
        "fraudulent = len(data[data.Class == 1])\n",
        "fraud_percentage = round(fraudulent/normal*100, 2)\n",
        "print(cl('Total number of Trnsactions are {}'.format(Total_transactions), attrs = ['bold']))\n",
        "print(cl('Number of Normal Transactions are {}'.format(normal), attrs = ['bold']))\n",
        "print(cl('Number of fraudulent Transactions are {}'.format(fraudulent), attrs = ['bold']))\n",
        "print(cl('Percentage of fraud Transactions is {}%'.format(fraud_percentage), attrs = ['bold']))\n"
      ]
    },
    {
      "cell_type": "code",
      "execution_count": null,
      "id": "d59e09cc",
      "metadata": {
        "colab": {
          "base_uri": "https://localhost:8080/"
        },
        "id": "d59e09cc",
        "outputId": "e23ec1f3-d4af-4c67-c3ec-219b8b4008cf"
      },
      "outputs": [
        {
          "output_type": "stream",
          "name": "stdout",
          "text": [
            "As data has not null values there is no need to clean \n",
            "<class 'pandas.core.frame.DataFrame'>\n",
            "RangeIndex: 284807 entries, 0 to 284806\n",
            "Data columns (total 31 columns):\n",
            " #   Column  Non-Null Count   Dtype  \n",
            "---  ------  --------------   -----  \n",
            " 0   Time    284807 non-null  float64\n",
            " 1   V1      284807 non-null  float64\n",
            " 2   V2      284807 non-null  float64\n",
            " 3   V3      284807 non-null  float64\n",
            " 4   V4      284807 non-null  float64\n",
            " 5   V5      284807 non-null  float64\n",
            " 6   V6      284807 non-null  float64\n",
            " 7   V7      284807 non-null  float64\n",
            " 8   V8      284807 non-null  float64\n",
            " 9   V9      284807 non-null  float64\n",
            " 10  V10     284807 non-null  float64\n",
            " 11  V11     284807 non-null  float64\n",
            " 12  V12     284807 non-null  float64\n",
            " 13  V13     284807 non-null  float64\n",
            " 14  V14     284807 non-null  float64\n",
            " 15  V15     284807 non-null  float64\n",
            " 16  V16     284807 non-null  float64\n",
            " 17  V17     284807 non-null  float64\n",
            " 18  V18     284807 non-null  float64\n",
            " 19  V19     284807 non-null  float64\n",
            " 20  V20     284807 non-null  float64\n",
            " 21  V21     284807 non-null  float64\n",
            " 22  V22     284807 non-null  float64\n",
            " 23  V23     284807 non-null  float64\n",
            " 24  V24     284807 non-null  float64\n",
            " 25  V25     284807 non-null  float64\n",
            " 26  V26     284807 non-null  float64\n",
            " 27  V27     284807 non-null  float64\n",
            " 28  V28     284807 non-null  float64\n",
            " 29  Amount  284807 non-null  float64\n",
            " 30  Class   284807 non-null  int64  \n",
            "dtypes: float64(30), int64(1)\n",
            "memory usage: 67.4 MB\n"
          ]
        }
      ],
      "source": [
        "print('As data has not null values there is no need to clean ')\n",
        "ccdata_csv.info();"
      ]
    },
    {
      "cell_type": "code",
      "execution_count": null,
      "id": "09ce2d11",
      "metadata": {
        "id": "09ce2d11"
      },
      "outputs": [],
      "source": [
        "tmp_data = ccdata_csv\n",
        "X = tmp_data.drop('Class', axis = 1).values\n",
        "y = tmp_data['Class'].values\n",
        "X_train, X_test, y_train, y_test = train_test_split(X, y, test_size = 0.50, random_state = 1)\n",
        "\n",
        "def model_scores(X_train, X_test, y_train, y_test):\n",
        "  DT = DecisionTreeClassifier(max_depth = 4, criterion = 'entropy')\n",
        "  DT.fit(X_train, y_train)\n",
        "  dt_yhat = DT.predict(X_test)\n",
        "  dt_ac = accuracy_score(y_test, dt_yhat)\n",
        "  print('Accuracy score of the Decision Tree model is {}'.format(dt_ac))\n",
        "  dt_f1 = f1_score(y_test, dt_yhat)\n",
        "  print('F1 score of the Decision Tree model is {}'.format(dt_f1))\n",
        "  confusion_matrix(y_test, dt_yhat, labels = [0, 1])\n",
        "\n",
        "  KNN = KNeighborsClassifier(n_neighbors = 7)\n",
        "  KNN.fit(X_train, y_train)\n",
        "  knn_yhat = KNN.predict(X_test)\n",
        "  knn_ac = accuracy_score(y_test, knn_yhat)\n",
        "  print('Accuracy score of the K-Nearest Neighbors model is {}'.format(knn_ac))\n",
        "  knn_f1 = f1_score(y_test, knn_yhat)\n",
        "  print('F1 score of the K-Nearest Neighbors model is {}'.format(knn_f1))\n",
        "\n",
        "  lr = LogisticRegression(solver='liblinear')\n",
        "  lr.fit(X_train, y_train)\n",
        "  lr_yhat = lr.predict(X_test)\n",
        "  lr_ac = accuracy_score(y_test, lr_yhat)\n",
        "  print('Accuracy score of the Logistic Regression model is {}'.format(lr_ac))\n",
        "  lr_f1 = f1_score(y_test, lr_yhat)\n",
        "  print('F1 score of the Logistic Regression model is {}'.format(lr_f1))\n",
        "\n",
        "  svm = SVC()\n",
        "  svm.fit(X_train, y_train)\n",
        "  svm_yhat = svm.predict(X_test)\n",
        "  svm_ac = accuracy_score(y_test, svm_yhat)\n",
        "  print('Accuracy score of the Support Vector Machines model is {}'.format(svm_ac))\n",
        "  svm_f1 = f1_score(y_test, svm_yhat)\n",
        "  print('F1 score of the Support Vector Machines model is {}'.format(svm_f1))\n",
        "\n",
        "  rf = RandomForestClassifier(max_depth = 4)\n",
        "  rf.fit(X_train, y_train)\n",
        "  rf_yhat = rf.predict(X_test)\n",
        "  rf_ac = accuracy_score(y_test, rf_yhat)\n",
        "  print('Accuracy score of the Random Forest model is {}'.format(rf_ac))\n",
        "  rf_f1 = f1_score(y_test, rf_yhat)\n",
        "  print('F1 score of the Random Forest model is {}'.format(rf_f1))\n",
        "\n",
        "  xgb = XGBClassifier(max_depth = 4)\n",
        "  xgb.fit(X_train, y_train)\n",
        "  xgb_yhat = xgb.predict(X_test)\n",
        "  xgb_ac = accuracy_score(y_test, xgb_yhat)\n",
        "  print('Accuracy score of the XGBoost model is {}'.format(xgb_ac))\n",
        "  xgb_f1 = f1_score(y_test, xgb_yhat)\n",
        "  print('F1 score of the XGBoost model is {}'.format(xgb_f1))\n",
        "\n",
        "  ac_arr = dt_ac, knn_ac, lr_ac, svm_ac, rf_ac, xgb_ac\n",
        "  f1_arr = dt_f1, knn_f1, lr_f1, svm_f1, rf_f1, xgb_f1\n",
        "  feat_importances = rf.feature_importances_\n",
        "\n",
        "  return ac_arr, f1_arr, feat_importances"
      ]
    },
    {
      "cell_type": "code",
      "execution_count": null,
      "id": "2c6997a6",
      "metadata": {
        "colab": {
          "base_uri": "https://localhost:8080/"
        },
        "id": "2c6997a6",
        "outputId": "dece3464-d07a-48d8-c6b5-c2c965ec484c"
      },
      "outputs": [
        {
          "output_type": "stream",
          "name": "stdout",
          "text": [
            "Accuracy score of the Decision Tree model is 0.9993469284570659\n",
            "F1 score of the Decision Tree model is 0.7842227378190256\n",
            "Accuracy score of the K-Nearest Neighbors model is 0.9984410550265442\n",
            "F1 score of the K-Nearest Neighbors model is 0.04310344827586207\n",
            "Accuracy score of the Logistic Regression model is 0.9988623915058565\n",
            "F1 score of the Logistic Regression model is 0.6009852216748767\n",
            "Accuracy score of the Support Vector Machines model is 0.9984059436532682\n",
            "F1 score of the Support Vector Machines model is 0.0\n",
            "Accuracy score of the Random Forest model is 0.9993258616331002\n",
            "F1 score of the Random Forest model is 0.7611940298507464\n",
            "Accuracy score of the XGBoost model is 0.9995295075981012\n",
            "F1 score of the XGBoost model is 0.8393285371702637\n"
          ]
        }
      ],
      "source": [
        "print(\"Be patient, this takes a while... \")\n",
        "ac_scores, f1_scores, feat_importances = model_scores(X_train, X_test, y_train, y_test)"
      ]
    },
    {
      "cell_type": "code",
      "source": [
        "fig, ax1 = plt.subplots()\n",
        "\n",
        "labels = ['DT', 'KNN', 'LR', 'SVM', 'RF', 'XGB']\n",
        "\n",
        "color = 'tab:red'\n",
        "ax1.set_xlabel('Models')\n",
        "ax1.set_ylabel('F1 Scores', color=color)\n",
        "ax1.plot(labels, f1_scores, color=color)\n",
        "ax1.tick_params(axis='y', color=color)\n",
        "\n",
        "ax2 = ax1.twinx()\n",
        "\n",
        "color = 'tab:blue'\n",
        "ax2.set_ylabel('Accuracy', color=color)\n",
        "ax2.plot(labels, ac_scores, color=color)\n",
        "ax2.tick_params(axis='y', color=color)\n",
        "\n",
        "print(\"As you will see, the best 3 models by means of comparison or F1-Scores \\\n",
        "\\n and Accuracy metrics were Linear-Regression, Random-Forest and XG-BOOST\")\n"
      ],
      "metadata": {
        "colab": {
          "base_uri": "https://localhost:8080/",
          "height": 322
        },
        "id": "b3Y7ityLDgib",
        "outputId": "10af59fb-243a-4f8a-f46e-9a040473b60d"
      },
      "id": "b3Y7ityLDgib",
      "execution_count": null,
      "outputs": [
        {
          "output_type": "stream",
          "name": "stdout",
          "text": [
            "As you will see, the best 3 models by means of comparison or F1-Scores \n",
            " and Accuracy metrics were Linear-Regression, Random-Forest and XG-BOOST\n"
          ]
        },
        {
          "output_type": "display_data",
          "data": {
            "text/plain": [
              "<Figure size 432x288 with 2 Axes>"
            ],
            "image/png": "[encoded data removed]"
          },
          "metadata": {
            "needs_background": "light"
          }
        }
      ]
    },
    {
      "cell_type": "code",
      "execution_count": null,
      "id": "f03ccaf6",
      "metadata": {
        "colab": {
          "base_uri": "https://localhost:8080/",
          "height": 362
        },
        "id": "f03ccaf6",
        "outputId": "74291ac6-d849-476e-b6f7-2c42e9d6aacf"
      },
      "outputs": [
        {
          "output_type": "stream",
          "name": "stdout",
          "text": [
            "What variable was the most powerful predictor for fraud?\n"
          ]
        },
        {
          "output_type": "display_data",
          "data": {
            "text/plain": [
              "<Figure size 504x288 with 1 Axes>"
            ],
            "image/png": "[encoded data removed]"
          },
          "metadata": {
            "needs_background": "light"
          }
        }
      ],
      "source": [
        "# This code snippet was obtained from\n",
        "# https://www.kaggle.com/gpreda/credit-card-fraud-detection-predictive-models\n",
        "\n",
        "print(\"What variable was the most powerful predictor for fraud?\")\n",
        "\n",
        "predictors = ccdata_csv.columns.values.tolist()[:-1]\n",
        "# feat_importances = rf.feature_importances_\n",
        "tmp = pd.DataFrame({'Feature': predictors, 'Feature importance': feat_importances})\n",
        "tmp = tmp.sort_values(by='Feature importance',ascending=False)\n",
        "plt.figure(figsize = (7,4))\n",
        "plt.title('Features importance',fontsize=14)\n",
        "s = sns.barplot(x='Feature',y='Feature importance',data=tmp)\n",
        "s.set_xticklabels(s.get_xticklabels(),rotation=90)\n",
        "plt.show()"
      ]
    },
    {
      "cell_type": "markdown",
      "source": [
        "# Nueva sección"
      ],
      "metadata": {
        "id": "OyzkqK9jN9Ap"
      },
      "id": "OyzkqK9jN9Ap"
    }
  ],
  "metadata": {
    "kernelspec": {
      "display_name": "Python 3 (ipykernel)",
      "language": "python",
      "name": "python3"
    },
    "language_info": {
      "codemirror_mode": {
        "name": "ipython",
        "version": 3
      },
      "file_extension": ".py",
      "mimetype": "text/x-python",
      "name": "python",
      "nbconvert_exporter": "python",
      "pygments_lexer": "ipython3",
      "version": "3.8.12"
    },
    "colab": {
      "provenance": []
    }
  },
  "nbformat": 4,
  "nbformat_minor": 5
}